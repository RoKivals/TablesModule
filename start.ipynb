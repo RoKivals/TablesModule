{
 "cells": [
  {
   "cell_type": "code",
   "execution_count": 1,
   "outputs": [],
   "source": [
    "from src import *"
   ],
   "metadata": {
    "collapsed": false
   }
  },
  {
   "cell_type": "markdown",
   "source": [
    "### Основное представление таблицы, которым будем пользоваться, его нам хватит за глаза"
   ],
   "metadata": {
    "collapsed": false
   }
  },
  {
   "cell_type": "code",
   "execution_count": 2,
   "outputs": [
    {
     "name": "stdout",
     "output_type": "stream",
     "text": [
      "          name           |         surname         |       university        |         rating          |\n",
      "         Mihail          |        Pogosyan         |           MAI           |           100           |\n",
      "         Mihail          |       Eskindarov        |  Financial University   |            0            |\n",
      "          Vanya          |         Lobanov         |         Pleshka         |           40            |\n",
      "         Victor          |           Sad           |           MSU           |            2            |\n"
     ]
    }
   ],
   "source": [
    "common_table = Table(\n",
    "    Row(dict(name='Mihail', surname='Pogosyan', university='MAI', rating=100)),\n",
    "    Row(dict(name=\"Mihail\", surname=\"Eskindarov\", university='Financial University', rating=0)),\n",
    "    Row(dict(name=\"Vanya\", surname=\"Lobanov\", university='Pleshka', rating=40)),\n",
    "    Row(dict(name=\"Victor\", surname=\"Sad\", university='MSU', rating=2))\n",
    ")\n",
    "\n",
    "print(common_table)"
   ],
   "metadata": {
    "collapsed": false
   }
  },
  {
   "cell_type": "markdown",
   "source": [
    "### Пустая таблица"
   ],
   "metadata": {
    "collapsed": false
   }
  },
  {
   "cell_type": "code",
   "execution_count": 3,
   "outputs": [],
   "source": [
    "empty_table = Table()"
   ],
   "metadata": {
    "collapsed": false
   }
  },
  {
   "cell_type": "markdown",
   "source": [
    "### Для начала протестируем работу `save/load_table` во всех трёх типах.\n",
    "## CSV\n",
    "Проверим стандартный случай работы:"
   ],
   "metadata": {
    "collapsed": false
   }
  },
  {
   "cell_type": "code",
   "execution_count": 4,
   "outputs": [
    {
     "name": "stdout",
     "output_type": "stream",
     "text": [
      "          name           |         surname         |       university        |         rating          |\n",
      "         Mihail          |        Pogosyan         |           MAI           |           100           |\n",
      "         Mihail          |       Eskindarov        |  Financial University   |            0            |\n",
      "          Vanya          |         Lobanov         |         Pleshka         |           40            |\n",
      "         Victor          |           Sad           |           MSU           |            2            |\n"
     ]
    }
   ],
   "source": [
    "cs.save_table(common_table, 'src/data/table.csv')\n",
    "new_table = cs.load_table('src/data/table.csv')\n",
    "print(new_table)"
   ],
   "metadata": {
    "collapsed": false
   }
  },
  {
   "cell_type": "markdown",
   "source": [
    "Теперь проверим работу пустой таблицы:"
   ],
   "metadata": {
    "collapsed": false
   }
  },
  {
   "cell_type": "code",
   "execution_count": 5,
   "outputs": [
    {
     "name": "stdout",
     "output_type": "stream",
     "text": [
      "\n"
     ]
    }
   ],
   "source": [
    "cs.save_table(empty_table, 'src/data/empty.csv')\n",
    "new_table = cs.load_table('src/data/empty.csv')\n",
    "print(new_table)"
   ],
   "metadata": {
    "collapsed": false
   }
  },
  {
   "cell_type": "markdown",
   "source": [
    "Как и ожидалось, выводя пустую таблицу, мы получаем абсолютную пустоту.\n",
    "Теперь посмотрим на исключительные ситуации:"
   ],
   "metadata": {
    "collapsed": false
   }
  },
  {
   "cell_type": "code",
   "execution_count": 6,
   "outputs": [
    {
     "ename": "TypeError",
     "evalue": "",
     "output_type": "error",
     "traceback": [
      "\u001B[1;31m---------------------------------------------------------------------------\u001B[0m",
      "\u001B[1;31mTypeError\u001B[0m                                 Traceback (most recent call last)",
      "Cell \u001B[1;32mIn[6], line 1\u001B[0m\n\u001B[1;32m----> 1\u001B[0m \u001B[43mcs\u001B[49m\u001B[38;5;241;43m.\u001B[39;49m\u001B[43msave_table\u001B[49m\u001B[43m(\u001B[49m\u001B[38;5;241;43m2\u001B[39;49m\u001B[43m,\u001B[49m\u001B[43m \u001B[49m\u001B[38;5;124;43m'\u001B[39;49m\u001B[38;5;124;43msrc/data/error.csv\u001B[39;49m\u001B[38;5;124;43m'\u001B[39;49m\u001B[43m)\u001B[49m\n",
      "File \u001B[1;32m~\\PycharmProjects\\FinancialProjectVeronika\\src\\csv_loader.py:20\u001B[0m, in \u001B[0;36msave_table\u001B[1;34m(table, filename)\u001B[0m\n\u001B[0;32m     18\u001B[0m \u001B[38;5;28;01mdef\u001B[39;00m \u001B[38;5;21msave_table\u001B[39m(table, filename):\n\u001B[0;32m     19\u001B[0m     \u001B[38;5;28;01mif\u001B[39;00m \u001B[38;5;129;01mnot\u001B[39;00m \u001B[38;5;28misinstance\u001B[39m(table, Table):\n\u001B[1;32m---> 20\u001B[0m         \u001B[38;5;28;01mraise\u001B[39;00m \u001B[38;5;167;01mTypeError\u001B[39;00m\n\u001B[0;32m     21\u001B[0m     \u001B[38;5;28;01mif\u001B[39;00m \u001B[38;5;129;01mnot\u001B[39;00m filename\u001B[38;5;241m.\u001B[39mendswith(\u001B[38;5;124m'\u001B[39m\u001B[38;5;124m.csv\u001B[39m\u001B[38;5;124m'\u001B[39m):\n\u001B[0;32m     22\u001B[0m         \u001B[38;5;28;01mraise\u001B[39;00m \u001B[38;5;167;01mRuntimeError\u001B[39;00m(\u001B[38;5;124m'\u001B[39m\u001B[38;5;124mBad format\u001B[39m\u001B[38;5;124m'\u001B[39m)\n",
      "\u001B[1;31mTypeError\u001B[0m: "
     ]
    }
   ],
   "source": [
    "cs.save_table(2, 'src/data/error.csv')"
   ],
   "metadata": {
    "collapsed": false
   }
  },
  {
   "cell_type": "markdown",
   "source": [
    "Ну, собственно говоря, двойка совсем не похожа на таблицу, а потому мы получаем ошибку."
   ],
   "metadata": {
    "collapsed": false
   }
  },
  {
   "cell_type": "code",
   "execution_count": null,
   "outputs": [],
   "source": [
    "cs.save_table(common_table, 'src/data/error.txt')"
   ],
   "metadata": {
    "collapsed": false
   }
  },
  {
   "cell_type": "markdown",
   "source": [
    "Собственно, сохранить csv представление таблицы в текстовый файл оказалось не самой хорошей идеей.\n",
    "\n",
    "## PICKLE\n",
    "Проверим стандартный случай работы:"
   ],
   "metadata": {
    "collapsed": false
   }
  },
  {
   "cell_type": "code",
   "execution_count": null,
   "outputs": [],
   "source": [
    "pck.save_table(common_table, 'src/data/table.pickle')\n",
    "new_table = pck.load_table('src/data/table.pickle')\n",
    "print(new_table)"
   ],
   "metadata": {
    "collapsed": false
   }
  },
  {
   "cell_type": "markdown",
   "source": [
    "Теперь проверим работу пустой таблицы:"
   ],
   "metadata": {
    "collapsed": false
   }
  },
  {
   "cell_type": "code",
   "execution_count": null,
   "outputs": [],
   "source": [
    "pck.save_table(empty_table, 'src/data/empty.pickle')\n",
    "new_table = pck.load_table('src/data/empty.pickle')\n",
    "print(new_table)"
   ],
   "metadata": {
    "collapsed": false
   }
  },
  {
   "cell_type": "markdown",
   "source": [
    "И вновь, без сюрпризов, пустая таблица осталась пустой.\n",
    "Перейдём к ошибочкам:"
   ],
   "metadata": {
    "collapsed": false
   }
  },
  {
   "cell_type": "code",
   "execution_count": null,
   "outputs": [],
   "source": [
    "pck.save_table('name: Sanya', 'src/data/error.pickle')"
   ],
   "metadata": {
    "collapsed": false
   }
  },
  {
   "cell_type": "markdown",
   "source": [
    "Эх, и опять ему что-то не нравится...("
   ],
   "metadata": {
    "collapsed": false
   }
  },
  {
   "cell_type": "code",
   "execution_count": null,
   "outputs": [],
   "source": [
    "pck.save_table(common_table, 'src/data/error.txt')"
   ],
   "metadata": {
    "collapsed": false
   }
  },
  {
   "cell_type": "markdown",
   "source": [
    "Чтож, перейдём к последнему типу файла - текстовому...\n",
    "## TXT"
   ],
   "metadata": {
    "collapsed": false
   }
  },
  {
   "cell_type": "code",
   "execution_count": null,
   "outputs": [],
   "source": [
    "txt.save_table(common_table, 'src/data/table.txt')\n",
    "new_table = txt.load_table('src/data/table.txt')\n",
    "print(new_table)"
   ],
   "metadata": {
    "collapsed": false
   }
  },
  {
   "cell_type": "markdown",
   "source": [
    "Стандартный случай вновь не даёт промах, проверим пустоту и тут:"
   ],
   "metadata": {
    "collapsed": false
   }
  },
  {
   "cell_type": "code",
   "execution_count": null,
   "outputs": [],
   "source": [
    "txt.save_table(empty_table, 'src/data/empty.txt')\n",
    "new_table = txt.load_table('src/data/empty.txt')\n",
    "print(new_table)"
   ],
   "metadata": {
    "collapsed": false
   }
  },
  {
   "cell_type": "markdown",
   "source": [
    "Проверим ошибки:"
   ],
   "metadata": {
    "collapsed": false
   }
  },
  {
   "cell_type": "code",
   "execution_count": null,
   "outputs": [],
   "source": [
    "txt.save_table('name: Sanya', 'src/data/error.txt')"
   ],
   "metadata": {
    "collapsed": false
   }
  },
  {
   "cell_type": "code",
   "execution_count": null,
   "outputs": [],
   "source": [
    "txt.load_table('src/data/error.exe')"
   ],
   "metadata": {
    "collapsed": false
   }
  },
  {
   "cell_type": "markdown",
   "source": [
    "Ну, можно попробовать и exe-шник в таблицу превратить, вдруг получится..."
   ],
   "metadata": {
    "collapsed": false
   }
  },
  {
   "cell_type": "markdown",
   "source": [
    "Самая скучная часть закончилась, теперь посмотрим, как же себя ведут базовые функции:\n",
    "## BASE\n",
    "Первым делом, продемонстрирую работу функций, получения новой таблицы по строкам. А также, обращу внимание на поведение функции в зависимости от значения параметра `copy_table`. В new_table получим таблицу из `[1;3) строк исходной."
   ],
   "metadata": {
    "collapsed": false
   }
  },
  {
   "cell_type": "code",
   "execution_count": 7,
   "outputs": [
    {
     "name": "stdout",
     "output_type": "stream",
     "text": [
      "          name           |         surname         |       university        |         rating          |\n",
      "         Mihail          |       Eskindarov        |  Financial University   |            0            |\n",
      "          Vanya          |         Lobanov         |         Pleshka         |           40            |\n"
     ]
    }
   ],
   "source": [
    "new_table = get_rows_by_number(common_table, 1, 3)\n",
    "print(new_table)"
   ],
   "metadata": {
    "collapsed": false
   }
  },
  {
   "cell_type": "markdown",
   "source": [
    "Обратите внимание, что `copy_table` по умолчанию False => мы не создаём копию исходной таблицы. Следовательно, если мы изменим `new_table`, то изменится и исходная таблица... Проверим:"
   ],
   "metadata": {
    "collapsed": false
   }
  },
  {
   "cell_type": "code",
   "execution_count": 8,
   "outputs": [
    {
     "name": "stdout",
     "output_type": "stream",
     "text": [
      "          name           |         surname         |       university        |         rating          |\n",
      "         Mihail          |        Pogosyan         |           MAI           |           100           |\n",
      "          Slava          |       Eskindarov        |  Financial University   |            0            |\n",
      "          Vanya          |         Lobanov         |         Pleshka         |           40            |\n",
      "         Victor          |           Sad           |           MSU           |            2            |\n"
     ]
    }
   ],
   "source": [
    "new_table.rows[0].update(name='Slava')\n",
    "print(common_table)"
   ],
   "metadata": {
    "collapsed": false
   }
  },
  {
   "cell_type": "markdown",
   "source": [
    "Как видно, первая строка исходной таблицы изменилась. Теперь попробуем делать копию передаваемой таблицы и посмотрим, что получится.\n",
    "А ну, ещё вернём Михаилу Абдурахмановичу его имя."
   ],
   "metadata": {
    "collapsed": false
   }
  },
  {
   "cell_type": "code",
   "execution_count": 11,
   "outputs": [
    {
     "name": "stdout",
     "output_type": "stream",
     "text": [
      "          name           |         surname         |       university        |         rating          |\n",
      "         Mihail          |       Eskindarov        |  Financial University   |            0            |\n",
      "          Vanya          |         Lobanov         |         Pleshka         |           40            |\n"
     ]
    }
   ],
   "source": [
    "new_table.rows[0].update(name='Mihail')\n",
    "new_table = get_rows_by_number(common_table, 1, 3, copy_table=True)\n",
    "print(new_table)"
   ],
   "metadata": {
    "collapsed": false
   }
  },
  {
   "cell_type": "markdown",
   "source": [
    "Попробуем вновь поменять поля новой таблицы:"
   ],
   "metadata": {
    "collapsed": false
   }
  },
  {
   "cell_type": "code",
   "execution_count": 12,
   "outputs": [
    {
     "name": "stdout",
     "output_type": "stream",
     "text": [
      "          name           |         surname         |       university        |         rating          |\n",
      "         Mihail          |        Pogosyan         |           MAI           |           100           |\n",
      "         Mihail          |       Eskindarov        |  Financial University   |            0            |\n",
      "          Vanya          |         Lobanov         |         Pleshka         |           40            |\n",
      "         Victor          |           Sad           |           MSU           |            2            |\n"
     ]
    }
   ],
   "source": [
    "new_table.rows[0].update(name='Slava')\n",
    "print(common_table)"
   ],
   "metadata": {
    "collapsed": false
   }
  },
  {
   "cell_type": "markdown",
   "source": [
    "О чудо, в этот раз, поле исходной таблицы не поменялось!)\n",
    "Теперь в темпе пробежимся по остальным функциям:\n",
    "#### `get_rows_by_index`\n",
    "Эта функция возвращает нам таблицу, состоящую из строк, в начале которых стоит один из переданных аргументов `*values`."
   ],
   "metadata": {
    "collapsed": false
   }
  },
  {
   "cell_type": "code",
   "execution_count": 14,
   "outputs": [
    {
     "name": "stdout",
     "output_type": "stream",
     "text": [
      "          name           |         surname         |       university        |         rating          |\n",
      "         Mihail          |        Pogosyan         |           MAI           |           100           |\n",
      "         Mihail          |       Eskindarov        |  Financial University   |            0            |\n"
     ]
    }
   ],
   "source": [
    "new_table = get_rows_by_index(common_table, 'Mihail', copy_table=True)\n",
    "print(new_table)"
   ],
   "metadata": {
    "collapsed": false
   }
  },
  {
   "cell_type": "markdown",
   "source": [
    "#### `get_column_types`\n",
    "Эта функция возвращает нам словарь, в котором прописан тип данных для каждого столбца. Значение параметра `by_number` True(False) отвечает за представление столбца числом(строкой)."
   ],
   "metadata": {
    "collapsed": false
   }
  },
  {
   "cell_type": "code",
   "execution_count": 16,
   "outputs": [
    {
     "name": "stdout",
     "output_type": "stream",
     "text": [
      "{0: 'str', 1: 'str', 2: 'str', 3: 'int'}\n",
      "{'name': 'str', 'surname': 'str', 'university': 'str', 'rating': 'int'}\n"
     ]
    }
   ],
   "source": [
    "dict1 = get_column_types(common_table)\n",
    "print(dict1)\n",
    "dict1 = get_column_types(common_table, by_number=False)\n",
    "print(dict1)"
   ],
   "metadata": {
    "collapsed": false
   }
  },
  {
   "cell_type": "markdown",
   "source": [
    "В данном примере прекрасна проиллюстрирована работа параметра `by_number`.\n",
    "\n",
    "#### `set_column_types`\n",
    "Полная противоположность функции `get_column_types`. Данная функция кастует все значения столбца к типу переданному словарём (того же типа, что мы получаем в прошлом функции)"
   ],
   "metadata": {
    "collapsed": false
   }
  },
  {
   "cell_type": "code",
   "execution_count": 17,
   "outputs": [
    {
     "name": "stdout",
     "output_type": "stream",
     "text": [
      "          name           |         surname         |       university        |         rating          |\n",
      "         Mihail          |        Pogosyan         |            1            |          100.0          |\n",
      "         Mihail          |       Eskindarov        |            1            |           0.0           |\n",
      "          Vanya          |         Lobanov         |            1            |          40.0           |\n",
      "         Victor          |           Sad           |            1            |           2.0           |\n"
     ]
    }
   ],
   "source": [
    "new_table = deepcopy(common_table)\n",
    "set_column_types(new_table, dict({0: \"str\", 1:\"str\", 2:\"bool\", 3:\"float\"}))\n",
    "print(new_table)"
   ],
   "metadata": {
    "collapsed": false
   }
  },
  {
   "cell_type": "markdown",
   "source": [
    "Третий столбец мы приводили к типу Bool, поэтому, каждая непустая строка была распознана, как True(1). А рейтинг мы кастовали к типу с плавающей точкой, что мы и получили в итоге.\n",
    "\n",
    "#### `get_values` и `get_value`\n",
    "Функция `get_values` возвращает нам значения всех строк в конкретном столбце в виде списка. Столбец может передаваться, как числом, так и названием (аналогично `by_number` из прошлых функций).\n",
    "`get_value` делает то же самое, но для таблицы из одной строки, то есть возвращает не список значений, а лишь одно."
   ],
   "metadata": {
    "collapsed": false
   }
  },
  {
   "cell_type": "code",
   "execution_count": 18,
   "outputs": [
    {
     "name": "stdout",
     "output_type": "stream",
     "text": [
      "['Pogosyan', 'Eskindarov', 'Lobanov', 'Sad']\n",
      "[100, 0, 40, 2]\n",
      "Mihail\n"
     ]
    }
   ],
   "source": [
    "l1 = get_values(common_table, 1)\n",
    "l2 = get_values(common_table, 'rating')\n",
    "l3 = get_value(common_table, 'name')\n",
    "\n",
    "print(l1, l2, l3, sep='\\n')"
   ],
   "metadata": {
    "collapsed": false
   }
  },
  {
   "cell_type": "markdown",
   "source": [
    "#### `set_values` и `set_value`\n",
    "Ну и последние две функции, который не возвращают значения, а наоборот их устанавливают для конкретного столбца. Параметр столбца может быть также указан, как номером, так и названием."
   ],
   "metadata": {
    "collapsed": false
   }
  },
  {
   "cell_type": "code",
   "execution_count": 20,
   "outputs": [
    {
     "name": "stdout",
     "output_type": "stream",
     "text": [
      "          name           |         surname         |       university        |         rating          |\n",
      "          Sanya          |        Pogosyan         |            1            |           100           |\n",
      "         Mihail          |       Eskindarov        |            1            |           100           |\n",
      "          Vanya          |         Lobanov         |            1            |           100           |\n",
      "         Victor          |           Sad           |            1            |           100           |\n"
     ]
    }
   ],
   "source": [
    "set_values(new_table, [100, 100, 100, 100], 'rating')\n",
    "set_value(new_table, 'Sanya', 0)\n",
    "print(new_table)"
   ],
   "metadata": {
    "collapsed": false
   }
  },
  {
   "cell_type": "markdown",
   "source": [
    "Как мы можем заметить, все рейтинги вузов вдруг взлетели в небеса (даже у ФУ)... А бывший глава Сухого похоже поменял имя..."
   ],
   "metadata": {
    "collapsed": false
   }
  }
 ],
 "metadata": {
  "kernelspec": {
   "display_name": "Python 3",
   "language": "python",
   "name": "python3"
  },
  "language_info": {
   "codemirror_mode": {
    "name": "ipython",
    "version": 2
   },
   "file_extension": ".py",
   "mimetype": "text/x-python",
   "name": "python",
   "nbconvert_exporter": "python",
   "pygments_lexer": "ipython2",
   "version": "2.7.6"
  }
 },
 "nbformat": 4,
 "nbformat_minor": 0
}
